{
 "metadata": {
  "language_info": {
   "codemirror_mode": {
    "name": "ipython",
    "version": 3
   },
   "file_extension": ".py",
   "mimetype": "text/x-python",
   "name": "python",
   "nbconvert_exporter": "python",
   "pygments_lexer": "ipython3",
   "version": "3.7.1-final"
  },
  "orig_nbformat": 2,
  "kernelspec": {
   "name": "python3",
   "display_name": "Python 3"
  }
 },
 "nbformat": 4,
 "nbformat_minor": 2,
 "cells": [
  {
   "cell_type": "code",
   "execution_count": 12,
   "metadata": {},
   "outputs": [],
   "source": [
    "import pandas as pd\n",
    "import numpy as np\n",
    "from sklearn.linear_model import LinearRegression\n",
    "from sklearn.feature_selection import RFE\n",
    "from sklearn.svm import SVR\n",
    "from sklearn import metrics\n",
    "from sklearn import preprocessing"
   ]
  },
  {
   "cell_type": "code",
   "execution_count": 17,
   "metadata": {},
   "outputs": [],
   "source": [
    "train = pd.read_csv('../countries_dataset/training_FinalCountryDatasetCombinedNoMissing.csv')\n",
    "train = train.drop(columns='country')\n",
    "y_train5 = train['Day5']\n",
    "y_train25 = train['Day25']\n",
    "y_train50 = train['Day50']\n",
    "X_train = train.drop(['Day5', 'Day25', 'Day50'], axis=1)\n",
    "\n",
    "\n",
    "test = pd.read_csv('../countries_dataset/test_FinalCountryDatasetCombinedNoMissing.csv')\n",
    "test = test.drop(columns='country')\n",
    "y_test5 = test['Day5']\n",
    "y_test25 = test['Day25']\n",
    "y_test50 = test['Day50']\n",
    "X_test = test.drop(['Day5', 'Day25', 'Day50'], axis=1)\n"
   ]
  },
  {
   "cell_type": "code",
   "execution_count": 18,
   "metadata": {},
   "outputs": [],
   "source": [
    "lm_model5 = LinearRegression().fit(X_train, y_train5)\n",
    "lm_model25 = LinearRegression().fit(X_train, y_train25)\n",
    "lm_model50 = LinearRegression().fit(X_train, y_train50)\n",
    "\n",
    "coeff_lm5 = pd.DataFrame(lm_model5.coef_, X_train.columns, columns=['Coefficient'])\n",
    "coeff_lm25 = pd.DataFrame(lm_model25.coef_, X_train.columns, columns=['Coefficient'])\n",
    "coeff_lm50 = pd.DataFrame(lm_model50.coef_, X_train.columns, columns=['Coefficient'])"
   ]
  },
  {
   "cell_type": "code",
   "execution_count": 19,
   "metadata": {},
   "outputs": [
    {
     "output_type": "stream",
     "name": "stdout",
     "text": [
      "Root Mean Squared Error Day 5: 3089.8333721022786\nRoot Mean Squared Error Day 25: 10138.714877138673\nRoot Mean Squared Error Day 50: 22676.10731668697\n"
     ]
    }
   ],
   "source": [
    "y_pred5 = lm_model5.predict(X_test)\n",
    "y_pred25 = lm_model25.predict(X_test)\n",
    "y_pred50 = lm_model50.predict(X_test)\n",
    "print('Root Mean Squared Error Day 5:', np.sqrt(metrics.mean_squared_error(y_test5, y_pred5)))\n",
    "print('Root Mean Squared Error Day 25:', np.sqrt(metrics.mean_squared_error(y_test25, y_pred25)))\n",
    "print('Root Mean Squared Error Day 50:', np.sqrt(metrics.mean_squared_error(y_test50, y_pred50)))"
   ]
  },
  {
   "cell_type": "code",
   "execution_count": null,
   "metadata": {},
   "outputs": [],
   "source": []
  }
 ]
}