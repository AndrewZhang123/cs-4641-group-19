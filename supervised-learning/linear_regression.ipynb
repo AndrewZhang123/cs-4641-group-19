{
 "metadata": {
  "language_info": {
   "codemirror_mode": {
    "name": "ipython",
    "version": 3
   },
   "file_extension": ".py",
   "mimetype": "text/x-python",
   "name": "python",
   "nbconvert_exporter": "python",
   "pygments_lexer": "ipython3",
   "version": "3.7.1-final"
  },
  "orig_nbformat": 2,
  "kernelspec": {
   "name": "python3",
   "display_name": "Python 3"
  }
 },
 "nbformat": 4,
 "nbformat_minor": 2,
 "cells": [
  {
   "cell_type": "code",
   "execution_count": 1,
   "metadata": {},
   "outputs": [],
   "source": [
    "import pandas as pd\n",
    "import numpy as np\n",
    "from sklearn.linear_model import LinearRegression\n",
    "from sklearn.feature_selection import RFE\n",
    "from sklearn.svm import SVR\n",
    "from sklearn import metrics\n",
    "from sklearn import preprocessing"
   ]
  },
  {
   "cell_type": "code",
   "execution_count": 2,
   "metadata": {},
   "outputs": [],
   "source": [
    "train = pd.read_csv('../countries_dataset/training_FinalCountryDatasetCombinedNoMissing.csv')\n",
    "train = train.drop(columns='country')\n",
    "y_train5 = train['Day5']\n",
    "y_train25 = train['Day25']\n",
    "y_train50 = train['Day50']\n",
    "X_train = train.drop(['Day5', 'Day25', 'Day50'], axis=1)\n",
    "\n",
    "\n",
    "test = pd.read_csv('../countries_dataset/test_FinalCountryDatasetCombinedNoMissing.csv')\n",
    "test = test.drop(columns='country')\n",
    "y_test5 = test['Day5']\n",
    "y_test25 = test['Day25']\n",
    "y_test50 = test['Day50']\n",
    "X_test = test.drop(['Day5', 'Day25', 'Day50'], axis=1)\n"
   ]
  },
  {
   "cell_type": "code",
   "execution_count": 30,
   "metadata": {},
   "outputs": [
    {
     "output_type": "stream",
     "name": "stdout",
     "text": [
      "                                                    Coefficient\nSurface area (km2)                                    -0.000592\nPopulation in thousands (2017)                         0.009814\nPopulation density (per km2, 2017)                     0.082358\nGDP: Gross domestic product (million current US$)      0.007094\nGDP growth rate (annual %, const. 2005 prices)       -31.141943\nGDP per capita (current US$)                          -0.040736\nEconomy: Agriculture (% of GVA)                      461.899506\nEconomy: Industry (% of GVA)                         477.067163\nEconomy: Services and other activity (% of GVA)      461.576469\nEmployment: Agriculture (% of employed)              -14.124459\nEmployment: Industry (% of employed)                 -64.709888\nEmployment: Services (% of employed)                 -57.554237\nUnemployment (% of labour force)                       3.782167\nAgricultural production index (2004-2006=100)        -11.663270\nFood production index (2004-2006=100)                 14.836243\nInternational trade: Exports (million US$)             0.070340\nInternational trade: Imports (million US$)            -0.102310\nPopulation growth rate (average annual %)            -28.060662\nUrban population (% of total population)             -16.780000\nUrban population growth rate (average annual %)      -85.253531\nPopulation age distribution (0-14  years, %)          -0.592664\nPopulation age distribution (60+ years, %)          -196.553274\nHealth: Total expenditure (% of GDP)                 -77.742204\nHealth: Physicians (per 1000 pop.)                   162.854285\nEducation: Government expenditure (% of GDP)          86.082731\nPop. using improved drinking water (urban, %)          2.256269\nPop. using improved drinking water (rural, %)          1.969917\nPop. using improved sanitation facilities (urba...    50.478252\nLife expectancy at birth (Female)                     24.712432\nLife expectancy at birth (Male)                      188.533257\nEducation: Primary gross enrol. ratio (Female)       -55.229065\nEducation: Primary gross enrol. ratio (Male)          32.132444\nEducation: Secondary gross enrol. ratio (Female)      22.741424\nEducation: Secondary gross enrol. ratio (Male)        17.714965\nEducation: Tertiary gross enrol. ratio (Female)        7.245517\nEducation: Tertiary gross enrol. ratio (Male)         -1.958708\nSouthernAsia                                       -2385.275207\nSouthernEurope                                      1019.388627\nNorthernAfrica                                      -293.820225\nPolynesia                                          -1299.475307\nMiddleAfrica                                         527.111332\nCaribbean                                           -544.247074\nSouthAmerica                                       -1707.218928\nWesternAsia                                         -422.860978\nOceania                                              413.075482\nWesternEurope                                       2980.192452\nEasternEurope                                       1494.624878\nCentralAmerica                                      -211.138524\nWesternAfrica                                       -685.126961\nNorthernAmerica                                     5979.790102\nSouthernAfrica                                      2012.000956\nSouth-easternAsia                                  -1588.409532\nEasternAfrica                                       -148.903287\nNorthernEurope                                       330.057896\nEasternAsia                                        -2436.797992\nMicronesia                                          -674.256613\nCentralAsia                                        -2018.291284\nMelanesia                                           -340.419815\nIntercept                                    -54363.55712108468\n--------------------------------------------------------------------\n                                                     Coefficient\nSurface area (km2)                                     -0.000876\nPopulation in thousands (2017)                         -0.007984\nPopulation density (per km2, 2017)                      0.287911\nGDP: Gross domestic product (million current US$)       0.004781\nGDP growth rate (annual %, const. 2005 prices)       -158.705805\nGDP per capita (current US$)                            0.023336\nEconomy: Agriculture (% of GVA)                     -8949.381558\nEconomy: Industry (% of GVA)                        -8981.384032\nEconomy: Services and other activity (% of GVA)     -8918.774758\nEmployment: Agriculture (% of employed)               635.976714\nEmployment: Industry (% of employed)                  734.167572\nEmployment: Services (% of employed)                  606.252938\nUnemployment (% of labour force)                       80.968647\nAgricultural production index (2004-2006=100)        -174.803195\nFood production index (2004-2006=100)                 183.531368\nInternational trade: Exports (million US$)              0.059687\nInternational trade: Imports (million US$)             -0.041960\nPopulation growth rate (average annual %)             322.283175\nUrban population (% of total population)              -35.485887\nUrban population growth rate (average annual %)      -437.540647\nPopulation age distribution (0-14  years, %)          203.830641\nPopulation age distribution (60+ years, %)           -150.435732\nHealth: Total expenditure (% of GDP)                 -155.091366\nHealth: Physicians (per 1000 pop.)                    184.982954\nEducation: Government expenditure (% of GDP)         -296.591400\nPop. using improved drinking water (urban, %)          56.570082\nPop. using improved drinking water (rural, %)         -68.007361\nPop. using improved sanitation facilities (urba...     -8.954398\nLife expectancy at birth (Female)                     -59.232233\nLife expectancy at birth (Male)                       256.871184\nEducation: Primary gross enrol. ratio (Female)         89.309733\nEducation: Primary gross enrol. ratio (Male)         -101.276460\nEducation: Secondary gross enrol. ratio (Female)      -58.512073\nEducation: Secondary gross enrol. ratio (Male)         64.922626\nEducation: Tertiary gross enrol. ratio (Female)        38.043463\nEducation: Tertiary gross enrol. ratio (Male)          46.395570\nSouthernAsia                                         2871.004919\nSouthernEurope                                       7276.982247\nNorthernAfrica                                        538.838831\nPolynesia                                           -1660.895592\nMiddleAfrica                                         1326.815129\nCaribbean                                             703.242381\nSouthAmerica                                          213.560248\nWesternAsia                                           200.547168\nOceania                                             -2045.763259\nWesternEurope                                       -1767.936120\nEasternEurope                                        -261.461634\nCentralAmerica                                       -604.558165\nWesternAfrica                                        -920.171466\nNorthernAmerica                                      2918.576882\nSouthernAfrica                                       2240.085974\nSouth-easternAsia                                    -369.207253\nEasternAfrica                                         399.096828\nNorthernEurope                                        832.621931\nEasternAsia                                        -13965.238835\nMicronesia                                            999.076275\nCentralAsia                                          -593.733843\nMelanesia                                            1668.517354\nIntercept                                      814043.4969233292\n--------------------------------------------------------------------\n                                                     Coefficient\nSurface area (km2)                                      0.000095\nPopulation in thousands (2017)                         -0.093827\nPopulation density (per km2, 2017)                     -0.094407\nGDP: Gross domestic product (million current US$)       0.017941\nGDP growth rate (annual %, const. 2005 prices)        -31.772956\nGDP per capita (current US$)                            0.167336\nEconomy: Agriculture (% of GVA)                    -10863.420020\nEconomy: Industry (% of GVA)                       -10900.281156\nEconomy: Services and other activity (% of GVA)    -10564.691927\nEmployment: Agriculture (% of employed)              1906.698447\nEmployment: Industry (% of employed)                 2286.966582\nEmployment: Services (% of employed)                 1967.557061\nUnemployment (% of labour force)                      147.038368\nAgricultural production index (2004-2006=100)        -761.858998\nFood production index (2004-2006=100)                 832.290646\nInternational trade: Exports (million US$)             -0.199967\nInternational trade: Imports (million US$)              0.333124\nPopulation growth rate (average annual %)             626.593001\nUrban population (% of total population)              -90.937254\nUrban population growth rate (average annual %)     -1024.178392\nPopulation age distribution (0-14  years, %)          402.945568\nPopulation age distribution (60+ years, %)           -804.977252\nHealth: Total expenditure (% of GDP)                 -398.319266\nHealth: Physicians (per 1000 pop.)                   -454.752872\nEducation: Government expenditure (% of GDP)         -706.404800\nPop. using improved drinking water (urban, %)         119.339103\nPop. using improved drinking water (rural, %)        -224.344591\nPop. using improved sanitation facilities (urba...    -29.369572\nLife expectancy at birth (Female)                     405.878490\nLife expectancy at birth (Male)                      -863.804357\nEducation: Primary gross enrol. ratio (Female)        440.906118\nEducation: Primary gross enrol. ratio (Male)         -412.362648\nEducation: Secondary gross enrol. ratio (Female)      -37.212022\nEducation: Secondary gross enrol. ratio (Male)        -38.820533\nEducation: Tertiary gross enrol. ratio (Female)        83.176119\nEducation: Tertiary gross enrol. ratio (Male)         283.163214\nSouthernAsia                                        21122.427703\nSouthernEurope                                      26370.516611\nNorthernAfrica                                       5878.826168\nPolynesia                                            2450.106742\nMiddleAfrica                                          180.135335\nCaribbean                                            7161.514887\nSouthAmerica                                         3676.814556\nWesternAsia                                          4976.852822\nOceania                                            -19595.828072\nWesternEurope                                        1735.338865\nEasternEurope                                        6413.062645\nCentralAmerica                                      -2713.733248\nWesternAfrica                                       -2142.073988\nNorthernAmerica                                         6.217105\nSouthernAfrica                                      -7886.545870\nSouth-easternAsia                                    2344.892609\nEasternAfrica                                       -1902.836165\nNorthernEurope                                       9697.773246\nEasternAsia                                        -67805.693496\nMicronesia                                           5404.415232\nCentralAsia                                         -1277.944771\nMelanesia                                            5905.761086\nIntercept                                      891103.9396590131\n---------------------------------------------------------------------\n"
     ]
    }
   ],
   "source": [
    "lm_model5 = LinearRegression().fit(X_train, y_train5)\n",
    "lm_model25 = LinearRegression().fit(X_train, y_train25)\n",
    "lm_model50 = LinearRegression().fit(X_train, y_train50)\n",
    "\n",
    "coeff_lm5 = pd.DataFrame(lm_model5.coef_, X_train.columns, columns=['Coefficient'])\n",
    "coeff_lm25 = pd.DataFrame(lm_model25.coef_, X_train.columns, columns=['Coefficient'])\n",
    "coeff_lm50 = pd.DataFrame(lm_model50.coef_, X_train.columns, columns=['Coefficient'])\n",
    "\n",
    "print(coeff_lm5)\n",
    "print('Intercept                                   ', lm_model5.intercept_)\n",
    "print('--------------------------------------------------------------------')\n",
    "print(coeff_lm25)\n",
    "print('Intercept                                     ', lm_model25.intercept_)\n",
    "print('--------------------------------------------------------------------')\n",
    "print(coeff_lm50)\n",
    "print('Intercept                                     ', lm_model50.intercept_)\n",
    "print('---------------------------------------------------------------------')"
   ]
  },
  {
   "cell_type": "code",
   "execution_count": 31,
   "metadata": {},
   "outputs": [
    {
     "output_type": "stream",
     "name": "stdout",
     "text": [
      "Root Mean Squared Error Day 5: 3089.8333721022786\nRoot Mean Squared Error Day 25: 10138.714877138673\nRoot Mean Squared Error Day 50: 22676.10731668697\n"
     ]
    }
   ],
   "source": [
    "y_pred5 = lm_model5.predict(X_test)\n",
    "y_pred25 = lm_model25.predict(X_test)\n",
    "y_pred50 = lm_model50.predict(X_test)\n",
    "print('Root Mean Squared Error Day 5:', np.sqrt(metrics.mean_squared_error(y_test5, y_pred5)))\n",
    "print('Root Mean Squared Error Day 25:', np.sqrt(metrics.mean_squared_error(y_test25, y_pred25)))\n",
    "print('Root Mean Squared Error Day 50:', np.sqrt(metrics.mean_squared_error(y_test50, y_pred50)))"
   ]
  },
  {
   "cell_type": "code",
   "execution_count": 32,
   "metadata": {},
   "outputs": [
    {
     "output_type": "stream",
     "name": "stdout",
     "text": [
      "-9.22026025456404\n0.05230288513402026\n0.5757046272185465\n"
     ]
    }
   ],
   "source": [
    "R2_5 = lm_model5.score(X_test,y_test5)\n",
    "R2_25 = lm_model25.score(X_test,y_test25)\n",
    "R2_50 = lm_model50.score(X_test,y_test50)\n",
    "print(R2_5)\n",
    "print(R2_25)\n",
    "print(R2_50)"
   ]
  },
  {
   "cell_type": "code",
   "execution_count": 37,
   "metadata": {},
   "outputs": [
    {
     "output_type": "stream",
     "name": "stdout",
     "text": [
      "<table border=\"1\" class=\"dataframe\">\n  <thead>\n    <tr style=\"text-align: right;\">\n      <th></th>\n      <th>Coefficient</th>\n    </tr>\n  </thead>\n  <tbody>\n    <tr>\n      <th>Surface area (km2)</th>\n      <td>0.000095</td>\n    </tr>\n    <tr>\n      <th>Population in thousands (2017)</th>\n      <td>-0.093827</td>\n    </tr>\n    <tr>\n      <th>Population density (per km2, 2017)</th>\n      <td>-0.094407</td>\n    </tr>\n    <tr>\n      <th>GDP: Gross domestic product (million current US$)</th>\n      <td>0.017941</td>\n    </tr>\n    <tr>\n      <th>GDP growth rate (annual %, const. 2005 prices)</th>\n      <td>-31.772956</td>\n    </tr>\n    <tr>\n      <th>GDP per capita (current US$)</th>\n      <td>0.167336</td>\n    </tr>\n    <tr>\n      <th>Economy: Agriculture (% of GVA)</th>\n      <td>-10863.420020</td>\n    </tr>\n    <tr>\n      <th>Economy: Industry (% of GVA)</th>\n      <td>-10900.281156</td>\n    </tr>\n    <tr>\n      <th>Economy: Services and other activity (% of GVA)</th>\n      <td>-10564.691927</td>\n    </tr>\n    <tr>\n      <th>Employment: Agriculture (% of employed)</th>\n      <td>1906.698447</td>\n    </tr>\n    <tr>\n      <th>Employment: Industry (% of employed)</th>\n      <td>2286.966582</td>\n    </tr>\n    <tr>\n      <th>Employment: Services (% of employed)</th>\n      <td>1967.557061</td>\n    </tr>\n    <tr>\n      <th>Unemployment (% of labour force)</th>\n      <td>147.038368</td>\n    </tr>\n    <tr>\n      <th>Agricultural production index (2004-2006=100)</th>\n      <td>-761.858998</td>\n    </tr>\n    <tr>\n      <th>Food production index (2004-2006=100)</th>\n      <td>832.290646</td>\n    </tr>\n    <tr>\n      <th>International trade: Exports (million US$)</th>\n      <td>-0.199967</td>\n    </tr>\n    <tr>\n      <th>International trade: Imports (million US$)</th>\n      <td>0.333124</td>\n    </tr>\n    <tr>\n      <th>Population growth rate (average annual %)</th>\n      <td>626.593001</td>\n    </tr>\n    <tr>\n      <th>Urban population (% of total population)</th>\n      <td>-90.937254</td>\n    </tr>\n    <tr>\n      <th>Urban population growth rate (average annual %)</th>\n      <td>-1024.178392</td>\n    </tr>\n    <tr>\n      <th>Population age distribution (0-14  years, %)</th>\n      <td>402.945568</td>\n    </tr>\n    <tr>\n      <th>Population age distribution (60+ years, %)</th>\n      <td>-804.977252</td>\n    </tr>\n    <tr>\n      <th>Health: Total expenditure (% of GDP)</th>\n      <td>-398.319266</td>\n    </tr>\n    <tr>\n      <th>Health: Physicians (per 1000 pop.)</th>\n      <td>-454.752872</td>\n    </tr>\n    <tr>\n      <th>Education: Government expenditure (% of GDP)</th>\n      <td>-706.404800</td>\n    </tr>\n    <tr>\n      <th>Pop. using improved drinking water (urban, %)</th>\n      <td>119.339103</td>\n    </tr>\n    <tr>\n      <th>Pop. using improved drinking water (rural, %)</th>\n      <td>-224.344591</td>\n    </tr>\n    <tr>\n      <th>Pop. using improved sanitation facilities (urban/rural, %)</th>\n      <td>-29.369572</td>\n    </tr>\n    <tr>\n      <th>Life expectancy at birth (Female)</th>\n      <td>405.878490</td>\n    </tr>\n    <tr>\n      <th>Life expectancy at birth (Male)</th>\n      <td>-863.804357</td>\n    </tr>\n    <tr>\n      <th>Education: Primary gross enrol. ratio (Female)</th>\n      <td>440.906118</td>\n    </tr>\n    <tr>\n      <th>Education: Primary gross enrol. ratio (Male)</th>\n      <td>-412.362648</td>\n    </tr>\n    <tr>\n      <th>Education: Secondary gross enrol. ratio (Female)</th>\n      <td>-37.212022</td>\n    </tr>\n    <tr>\n      <th>Education: Secondary gross enrol. ratio (Male)</th>\n      <td>-38.820533</td>\n    </tr>\n    <tr>\n      <th>Education: Tertiary gross enrol. ratio (Female)</th>\n      <td>83.176119</td>\n    </tr>\n    <tr>\n      <th>Education: Tertiary gross enrol. ratio (Male)</th>\n      <td>283.163214</td>\n    </tr>\n    <tr>\n      <th>SouthernAsia</th>\n      <td>21122.427703</td>\n    </tr>\n    <tr>\n      <th>SouthernEurope</th>\n      <td>26370.516611</td>\n    </tr>\n    <tr>\n      <th>NorthernAfrica</th>\n      <td>5878.826168</td>\n    </tr>\n    <tr>\n      <th>Polynesia</th>\n      <td>2450.106742</td>\n    </tr>\n    <tr>\n      <th>MiddleAfrica</th>\n      <td>180.135335</td>\n    </tr>\n    <tr>\n      <th>Caribbean</th>\n      <td>7161.514887</td>\n    </tr>\n    <tr>\n      <th>SouthAmerica</th>\n      <td>3676.814556</td>\n    </tr>\n    <tr>\n      <th>WesternAsia</th>\n      <td>4976.852822</td>\n    </tr>\n    <tr>\n      <th>Oceania</th>\n      <td>-19595.828072</td>\n    </tr>\n    <tr>\n      <th>WesternEurope</th>\n      <td>1735.338865</td>\n    </tr>\n    <tr>\n      <th>EasternEurope</th>\n      <td>6413.062645</td>\n    </tr>\n    <tr>\n      <th>CentralAmerica</th>\n      <td>-2713.733248</td>\n    </tr>\n    <tr>\n      <th>WesternAfrica</th>\n      <td>-2142.073988</td>\n    </tr>\n    <tr>\n      <th>NorthernAmerica</th>\n      <td>6.217105</td>\n    </tr>\n    <tr>\n      <th>SouthernAfrica</th>\n      <td>-7886.545870</td>\n    </tr>\n    <tr>\n      <th>South-easternAsia</th>\n      <td>2344.892609</td>\n    </tr>\n    <tr>\n      <th>EasternAfrica</th>\n      <td>-1902.836165</td>\n    </tr>\n    <tr>\n      <th>NorthernEurope</th>\n      <td>9697.773246</td>\n    </tr>\n    <tr>\n      <th>EasternAsia</th>\n      <td>-67805.693496</td>\n    </tr>\n    <tr>\n      <th>Micronesia</th>\n      <td>5404.415232</td>\n    </tr>\n    <tr>\n      <th>CentralAsia</th>\n      <td>-1277.944771</td>\n    </tr>\n    <tr>\n      <th>Melanesia</th>\n      <td>5905.761086</td>\n    </tr>\n  </tbody>\n</table>\n"
     ]
    }
   ],
   "source": [
    "html = coeff_lm50.to_html()\n",
    "print(html)"
   ]
  },
  {
   "cell_type": "code",
   "execution_count": null,
   "metadata": {},
   "outputs": [],
   "source": []
  }
 ]
}