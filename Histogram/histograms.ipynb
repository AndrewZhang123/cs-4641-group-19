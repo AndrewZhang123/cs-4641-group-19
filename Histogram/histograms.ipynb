{
  "nbformat": 4,
  "nbformat_minor": 0,
  "metadata": {
    "colab": {
      "name": "histograms",
      "provenance": [],
      "collapsed_sections": []
    },
    "kernelspec": {
      "name": "python3",
      "display_name": "Python 3"
    }
  },
  "cells": [
    {
      "cell_type": "code",
      "metadata": {
        "id": "cUUNniBzbGIU",
        "outputId": "bf2269dc-a628-4683-afe2-4c121e7c541c",
        "colab": {
          "base_uri": "https://localhost:8080/"
        }
      },
      "source": [
        "# imports\n",
        "from matplotlib import pyplot as plt \n",
        "import numpy as np  \n",
        "import pandas as pd\n",
        "\n",
        "# todo: add the file to colab\n",
        "\n",
        "# read the data\n",
        "my_data = pd.read_csv('country-data-no-string-or-onehot.csv')\n",
        "print(my_data)\n"
      ],
      "execution_count": 35,
      "outputs": [
        {
          "output_type": "stream",
          "text": [
            "     Surface area (km2)  ...  Education: Tertiary gross enrol. ratio (Male)\n",
            "0              652864.0  ...                                      13.300000\n",
            "1               28748.0  ...                                      48.700000\n",
            "2             2381741.0  ...                                      28.900000\n",
            "3                 199.0  ...                                      34.673333\n",
            "4                 468.0  ...                                      34.766667\n",
            "..                  ...  ...                                            ...\n",
            "224               142.0  ...                                      32.640000\n",
            "225            266000.0  ...                                      34.340000\n",
            "226            527968.0  ...                                      13.700000\n",
            "227            752612.0  ...                                       4.500000\n",
            "228            390757.0  ...                                       8.900000\n",
            "\n",
            "[229 rows x 36 columns]\n"
          ],
          "name": "stdout"
        }
      ]
    },
    {
      "cell_type": "code",
      "metadata": {
        "id": "2dKnR91uh6he"
      },
      "source": [
        "# surface area\n",
        "pd.DataFrame.hist(my_data, column = 'Surface area (km2)', bins = 10)\n",
        "pd.DataFrame.hist(my_data, column = 'Surface area (km2)', bins = 20)\n",
        "pd.DataFrame.hist(my_data, column = 'Surface area (km2)', bins = 40)\n",
        "\n"
      ],
      "execution_count": null,
      "outputs": []
    },
    {
      "cell_type": "code",
      "metadata": {
        "id": "5Fa413ESiyK8"
      },
      "source": [
        "# rural drinking water\n",
        "pd.DataFrame.hist(my_data, column = 'Pop. using improved drinking water (rural, %)', bins = 5)\n",
        "pd.DataFrame.hist(my_data, column = 'Pop. using improved drinking water (rural, %)', bins = 10)\n",
        "pd.DataFrame.hist(my_data, column = 'Pop. using improved drinking water (rural, %)', bins = 20)"
      ],
      "execution_count": null,
      "outputs": []
    },
    {
      "cell_type": "code",
      "metadata": {
        "id": "LZi6gy8tlYRk"
      },
      "source": [
        "# urban drinking water\n",
        "\n",
        "pd.DataFrame.hist(my_data, column = 'Pop. using improved drinking water (urban, %)', bins = 5)\n",
        "pd.DataFrame.hist(my_data, column = 'Pop. using improved drinking water (urban, %)', bins = 10)\n",
        "pd.DataFrame.hist(my_data, column = 'Pop. using improved drinking water (urban, %)', bins = 20)"
      ],
      "execution_count": null,
      "outputs": []
    },
    {
      "cell_type": "code",
      "metadata": {
        "id": "Qa432mFDmh0S"
      },
      "source": [
        "# <14 Percent Pop\n",
        "pd.DataFrame.hist(my_data, column = 'Population age distribution (0-14, %)', bins = 5)\n",
        "pd.DataFrame.hist(my_data, column = 'Population age distribution (0-14, %)', bins = 8)\n",
        "pd.DataFrame.hist(my_data, column = 'Population age distribution (0-14, %)', bins = 10)\n",
        "pd.DataFrame.hist(my_data, column = 'Population age distribution (0-14, %)', bins = 15)\n"
      ],
      "execution_count": null,
      "outputs": []
    },
    {
      "cell_type": "code",
      "metadata": {
        "id": "RLqxp7C0nWCF"
      },
      "source": [
        "# Urban Percent Pop\n",
        "\n",
        "pd.DataFrame.hist(my_data, column = 'Urban population (% of total population)', bins = 5)\n",
        "pd.DataFrame.hist(my_data, column = 'Urban population (% of total population)', bins = 8)\n",
        "pd.DataFrame.hist(my_data, column = 'Urban population (% of total population)', bins = 10)\n",
        "pd.DataFrame.hist(my_data, column = 'Urban population (% of total population)', bins = 15)\n"
      ],
      "execution_count": null,
      "outputs": []
    },
    {
      "cell_type": "code",
      "metadata": {
        "id": "tttcYHlloCYw"
      },
      "source": [
        "# >60 Percent Pop\n",
        "pd.DataFrame.hist(my_data, column = 'Population age distribution (60+ years, %)', bins = 5)\n",
        "pd.DataFrame.hist(my_data, column = 'Population age distribution (60+ years, %)', bins = 8)\n",
        "pd.DataFrame.hist(my_data, column = 'Population age distribution (60+ years, %)', bins = 10)\n",
        "pd.DataFrame.hist(my_data, column = 'Population age distribution (60+ years, %)', bins = 15)\n"
      ],
      "execution_count": null,
      "outputs": []
    },
    {
      "cell_type": "code",
      "metadata": {
        "id": "oI94WUVxoe7g",
        "outputId": "8270127f-f573-4a18-f156-c9c76924024f",
        "colab": {
          "base_uri": "https://localhost:8080/",
          "height": 842
        }
      },
      "source": [
        "covid_data = pd.read_csv('CovidCasesNoBlanks.csv')\n",
        "\n",
        "pd.DataFrame.hist(covid_data, column = '5', bins = 25)\n",
        "pd.DataFrame.hist(covid_data, column = '25', bins = 25)\n",
        "pd.DataFrame.hist(covid_data, column = '50', bins = 25)\n"
      ],
      "execution_count": 53,
      "outputs": [
        {
          "output_type": "execute_result",
          "data": {
            "text/plain": [
              "array([[<matplotlib.axes._subplots.AxesSubplot object at 0x7fa81fd9c4a8>]],\n",
              "      dtype=object)"
            ]
          },
          "metadata": {
            "tags": []
          },
          "execution_count": 53
        },
        {
          "output_type": "display_data",
          "data": {
            "image/png": "[encoded data removed]",
            "text/plain": [
              "<Figure size 432x288 with 1 Axes>"
            ]
          },
          "metadata": {
            "tags": [],
            "needs_background": "light"
          }
        },
        {
          "output_type": "display_data",
          "data": {
            "image/png": "[encoded data removed]",
            "text/plain": [
              "<Figure size 432x288 with 1 Axes>"
            ]
          },
          "metadata": {
            "tags": [],
            "needs_background": "light"
          }
        },
        {
          "output_type": "display_data",
          "data": {
            "image/png": "[encoded data removed]",
            "text/plain": [
              "<Figure size 432x288 with 1 Axes>"
            ]
          },
          "metadata": {
            "tags": [],
            "needs_background": "light"
          }
        }
      ]
    }
  ]
}